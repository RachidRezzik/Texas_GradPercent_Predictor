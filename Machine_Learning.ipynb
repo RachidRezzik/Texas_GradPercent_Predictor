{
 "cells": [
  {
   "cell_type": "code",
   "execution_count": 3,
   "metadata": {},
   "outputs": [],
   "source": [
    "import pandas as pd\n",
    "import numpy as np\n",
    "from sklearn.metrics import r2_score, mean_squared_error, make_scorer\n",
    "from sklearn.linear_model import LinearRegression, Ridge, Lasso, ElasticNet\n",
    "from sklearn.model_selection import train_test_split\n",
    "def warn(*args, **kwargs):\n",
    "    pass\n",
    "import warnings\n",
    "warnings.warn = warn"
   ]
  },
  {
   "cell_type": "raw",
   "metadata": {},
   "source": [
    "# Below will be a basic model including all of the features I collected for school districts. As mentioned in the Data Analysis notebook, I believe the model will suffer from multicollinearity. Let's see"
   ]
  },
  {
   "cell_type": "code",
   "execution_count": 97,
   "metadata": {
    "scrolled": true
   },
   "outputs": [
    {
     "name": "stdout",
     "output_type": "stream",
     "text": [
      "                                  OLS Regression Results                                 \n",
      "=========================================================================================\n",
      "Dep. Variable:     Graduated 4-Year (%)   R-squared (uncentered):                   0.960\n",
      "Model:                              OLS   Adj. R-squared (uncentered):              0.959\n",
      "Method:                   Least Squares   F-statistic:                              794.8\n",
      "Date:                  Sun, 15 Mar 2020   Prob (F-statistic):                   1.74e-267\n",
      "Time:                          15:06:36   Log-Likelihood:                         -1437.9\n",
      "No. Observations:                   406   AIC:                                      2900.\n",
      "Df Residuals:                       394   BIC:                                      2948.\n",
      "Df Model:                            12                                                  \n",
      "Covariance Type:              nonrobust                                                  \n",
      "===================================================================================================\n",
      "                                      coef    std err          t      P>|t|      [0.025      0.975]\n",
      "---------------------------------------------------------------------------------------------------\n",
      "ACT-Composite                       2.5437      0.610      4.170      0.000       1.344       3.743\n",
      "ACT-Part_Rate                       0.0408      0.037      1.099      0.273      -0.032       0.114\n",
      "AP-11&12 Participating Students    -0.0027      0.004     -0.632      0.528      -0.011       0.006\n",
      "AP-Total Exams                      0.0023      0.002      1.493      0.136      -0.001       0.005\n",
      "AP-Passed(%)                        0.3034      0.038      8.033      0.000       0.229       0.378\n",
      "AP-Exams Taken Per Student         -5.2097      1.603     -3.251      0.001      -8.360      -2.059\n",
      "Enrolled 4-Year                     0.0070      0.006      1.183      0.238      -0.005       0.019\n",
      "Total Graduated                    -0.0037      0.002     -2.248      0.025      -0.007      -0.000\n",
      "Enrolled 4-Year (%)                -0.4181      0.132     -3.172      0.002      -0.677      -0.159\n",
      "SAT-Total                          -0.0061      0.012     -0.531      0.596      -0.029       0.017\n",
      "SAT-Part_Rate                      -0.0313      0.041     -0.763      0.446      -0.112       0.049\n",
      "Wealth/ADA                      -6.521e-07    2.5e-06     -0.261      0.794   -5.57e-06    4.27e-06\n",
      "==============================================================================\n",
      "Omnibus:                        9.831   Durbin-Watson:                   1.953\n",
      "Prob(Omnibus):                  0.007   Jarque-Bera (JB):               13.564\n",
      "Skew:                           0.202   Prob(JB):                      0.00113\n",
      "Kurtosis:                       3.799   Cond. No.                     1.76e+06\n",
      "==============================================================================\n",
      "\n",
      "Warnings:\n",
      "[1] Standard Errors assume that the covariance matrix of the errors is correctly specified.\n",
      "[2] The condition number is large, 1.76e+06. This might indicate that there are\n",
      "strong multicollinearity or other numerical problems.\n"
     ]
    }
   ],
   "source": [
    "### Interpreting Coefficients, Stats Model OLS ###\n",
    "from statsmodels.api import OLS\n",
    "grad = pd.read_csv('Feature_Target_Data.csv')\n",
    "years = [2011, 2012, 2013, 2014]\n",
    "grad = grad.loc[grad['Year'].isin(years)]\n",
    "grad = grad[grad.columns[3:]]\n",
    "X = grad[grad.columns[:-1]]\n",
    "y = grad[grad.columns[-1]]\n",
    "X_train, X_test, y_train, y_test = train_test_split(X, y, test_size=.2, random_state=42)\n",
    "olsreg = OLS(y_train, X_train)\n",
    "olsreg = olsreg.fit()\n",
    "print(olsreg.summary())"
   ]
  },
  {
   "cell_type": "markdown",
   "metadata": {},
   "source": [
    "\n",
    "As seen from Warning 2, the basic model is indeed dealing with multicollinearity. \n",
    "\n",
    "From Data Analysis notebook, below are features with that contain high correlations with other features that we can consider dropping to benefit our regression model\n",
    "\n",
    "['AP-Total Exams', 'AP-Passed(%)', 'Enrolled 4-Year', 'Total Graduated', 'SAT-Total']\n",
    "\n",
    "When thinking from a significance standpoint, we could also explore excluding 'Wealth/ADA'\n"
   ]
  },
  {
   "cell_type": "code",
   "execution_count": 98,
   "metadata": {
    "scrolled": true
   },
   "outputs": [
    {
     "name": "stdout",
     "output_type": "stream",
     "text": [
      "                                  OLS Regression Results                                 \n",
      "=========================================================================================\n",
      "Dep. Variable:     Graduated 4-Year (%)   R-squared (uncentered):                   0.959\n",
      "Model:                              OLS   Adj. R-squared (uncentered):              0.958\n",
      "Method:                   Least Squares   F-statistic:                              1544.\n",
      "Date:                  Sun, 15 Mar 2020   Prob (F-statistic):                   4.71e-273\n",
      "Time:                          15:06:41   Log-Likelihood:                         -1446.6\n",
      "No. Observations:                   406   AIC:                                      2905.\n",
      "Df Residuals:                       400   BIC:                                      2929.\n",
      "Df Model:                             6                                                  \n",
      "Covariance Type:              nonrobust                                                  \n",
      "==============================================================================================\n",
      "                                 coef    std err          t      P>|t|      [0.025      0.975]\n",
      "----------------------------------------------------------------------------------------------\n",
      "ACT-Composite                  2.0525      0.148     13.900      0.000       1.762       2.343\n",
      "ACT-Part_Rate                  0.0671      0.035      1.906      0.057      -0.002       0.136\n",
      "AP-Passed(%)                   0.3444      0.032     10.846      0.000       0.282       0.407\n",
      "AP-Exams Taken Per Student    -5.6603      1.322     -4.282      0.000      -8.259      -3.062\n",
      "Enrolled 4-Year (%)           -0.3690      0.112     -3.309      0.001      -0.588      -0.150\n",
      "SAT-Part_Rate                 -0.0344      0.038     -0.912      0.362      -0.109       0.040\n",
      "==============================================================================\n",
      "Omnibus:                       11.442   Durbin-Watson:                   1.935\n",
      "Prob(Omnibus):                  0.003   Jarque-Bera (JB):               17.424\n",
      "Skew:                           0.200   Prob(JB):                     0.000165\n",
      "Kurtosis:                       3.933   Cond. No.                         274.\n",
      "==============================================================================\n",
      "\n",
      "Warnings:\n",
      "[1] Standard Errors assume that the covariance matrix of the errors is correctly specified.\n"
     ]
    }
   ],
   "source": [
    "### Studying Effects of Dropping Certain Features Due to Multicollinearity/Domain Insignificance ###\n",
    "grad = grad.drop(['AP-Total Exams', 'Enrolled 4-Year', 'Total Graduated', 'AP-11&12 Participating Students', 'SAT-Total', 'Wealth/ADA'], axis=1)\n",
    "X = grad[grad.columns[:-1]]\n",
    "y = grad[grad.columns[-1]]\n",
    "X_train, X_test, y_train, y_test = train_test_split(X, y, test_size=.2, random_state=42)\n",
    "olsreg = OLS(y_train, X_train)\n",
    "olsreg = olsreg.fit()\n",
    "print(olsreg.summary())"
   ]
  },
  {
   "cell_type": "markdown",
   "metadata": {},
   "source": [
    "\n",
    "Warning about Multicollinearity is gone ^ and R2 decreased from .96 to .959 (not terrible)\n",
    "\n",
    "Below we'll test out linear regression in scikit learn and view resulting RMSE, r2, and MAPE metrics to see if the model performs better with all features or without the features causing multicollinearity. I'll use several different testing sizes and 100 different random states for each testing size. I'll then take the average metric scores for each testing size for all features and after dropping certain features. \n",
    "\n",
    "Here I'm trying to eliminate bias for how the data was split up into training and testing sets to make a reasonable conclusion on how dropping certain features affects model performance. \n"
   ]
  },
  {
   "cell_type": "code",
   "execution_count": 15,
   "metadata": {
    "scrolled": true
   },
   "outputs": [
    {
     "name": "stdout",
     "output_type": "stream",
     "text": [
      "\n",
      "***Test Size:  0.275 ***\n",
      "*All Features: Performance on Test Set*\n",
      "\n",
      "Average Results from different Random States:\n",
      "RMSE:  8.024981633156637 r2:  0.5808002398725814 MAPE:  17.746177379426808\n",
      "\n",
      "Best RMSE:  6.5780572094757215 Random State:  657\n",
      "Best r2:  0.7024134573472549 Random State:  926\n",
      "Best MAPE:  13.670654224423245 Random State:  178\n",
      "\n",
      "*After Dropping Features: Performance on Test Set*\n",
      "\n",
      "Average Results from different Random States:\n",
      "RMSE:  8.134285510326231 r2:  0.5693447328370037 MAPE:  17.785877371894035\n",
      "\n",
      "Best RMSE:  6.501762627984149 Random State:  319\n",
      "Best r2:  0.7178792180167728 Random State:  319\n",
      "Best MAPE:  13.453253962546366 Random State:  178\n",
      "\n",
      "***Test Size:  0.25 ***\n",
      "*All Features: Performance on Test Set*\n",
      "\n",
      "Average Results from different Random States:\n",
      "RMSE:  8.017852279775068 r2:  0.5806564816476749 MAPE:  17.71832721888505\n",
      "\n",
      "Best RMSE:  6.38238954547272 Random State:  118\n",
      "Best r2:  0.7024513998328827 Random State:  926\n",
      "Best MAPE:  13.474187318294028 Random State:  178\n",
      "\n",
      "*After Dropping Features: Performance on Test Set*\n",
      "\n",
      "Average Results from different Random States:\n",
      "RMSE:  8.123081563758923 r2:  0.5696434780249183 MAPE:  17.75043229817592\n",
      "\n",
      "Best RMSE:  6.378626753500852 Random State:  118\n",
      "Best r2:  0.7209473245336535 Random State:  319\n",
      "Best MAPE:  13.071751706195379 Random State:  62\n",
      "\n",
      "***Test Size:  0.225 ***\n",
      "*All Features: Performance on Test Set*\n",
      "\n",
      "Average Results from different Random States:\n",
      "RMSE:  8.005915792326032 r2:  0.5810784202910876 MAPE:  17.70408917841048\n",
      "\n",
      "Best RMSE:  6.264752580606269 Random State:  118\n",
      "Best r2:  0.710539569554083 Random State:  319\n",
      "Best MAPE:  13.103722876512522 Random State:  266\n",
      "\n",
      "*After Dropping Features: Performance on Test Set*\n",
      "\n",
      "Average Results from different Random States:\n",
      "RMSE:  8.112715162377897 r2:  0.5698807229270929 MAPE:  17.74225007663305\n",
      "\n",
      "Best RMSE:  6.222089377106793 Random State:  985\n",
      "Best r2:  0.727564682939494 Random State:  319\n",
      "Best MAPE:  12.821798487264257 Random State:  62\n",
      "\n",
      "***Test Size:  0.2 ***\n",
      "*All Features: Performance on Test Set*\n",
      "\n",
      "Average Results from different Random States:\n",
      "RMSE:  7.993381752803343 r2:  0.581235694163175 MAPE:  17.685344945329568\n",
      "\n",
      "Best RMSE:  6.198273680954995 Random State:  639\n",
      "Best r2:  0.7441823938418632 Random State:  639\n",
      "Best MAPE:  13.141485517453438 Random State:  266\n",
      "\n",
      "*After Dropping Features: Performance on Test Set*\n",
      "\n",
      "Average Results from different Random States:\n",
      "RMSE:  8.101765580468637 r2:  0.5698547553143269 MAPE:  17.730206958162714\n",
      "\n",
      "Best RMSE:  6.34294597637801 Random State:  118\n",
      "Best r2:  0.7256397467755512 Random State:  103\n",
      "Best MAPE:  12.314523481376586 Random State:  62\n"
     ]
    }
   ],
   "source": [
    "########## Linear Regression Model for Predicting Graduated 4-Year (%) ############\n",
    "\n",
    "### USING DIFFERENT RANDOM STATES AND DIFFERENT TEST SPLITS ####\n",
    "\n",
    "### ALL Features ###\n",
    "from sklearn.metrics.scorer import make_scorer\n",
    "\n",
    "def mean_absolute_percentage_error(y_true, y_pred):\n",
    "    y_true, y_pred = np.array(y_true), np.array(y_pred)\n",
    "    return np.mean(np.abs((y_true - y_pred) / y_true)) * 100\n",
    "\n",
    "for test_size in [.275, .25, .225, .2]:\n",
    "    rmse_all = []\n",
    "    r2_all = []\n",
    "    mape_all = []\n",
    "    rmse_drop = []\n",
    "    r2_drop = []\n",
    "    mape_drop = []\n",
    "    print('\\n***Test Size: ', test_size, '***')\n",
    "    for i in range(1000):\n",
    "        ### ALL FEATURES ###\n",
    "        grad = pd.read_csv('Feature_Target_Data.csv')\n",
    "        years = [2011, 2012, 2013, 2014]\n",
    "        grad = grad.loc[grad['Year'].isin(years)]\n",
    "        grad = grad[grad.columns[3:]]\n",
    "        X = grad.drop('Graduated 4-Year (%)', axis=1).values\n",
    "        y = grad['Graduated 4-Year (%)'].values\n",
    "        X_train, X_test, y_train, y_test = train_test_split(X, y, test_size=test_size, random_state=i)\n",
    "        linear_reg = LinearRegression()\n",
    "        linear_reg.fit(X_train, y_train)\n",
    "        y_pred_test = linear_reg.predict(X_test)\n",
    "        y_pred_train = linear_reg.predict(X_train)\n",
    "        rmse_all.append(np.sqrt(mean_squared_error(y_test, y_pred_test)))\n",
    "        r2_all.append(linear_reg.score(X_test, y_test))\n",
    "        mape_all.append(mean_absolute_percentage_error(y_test, y_pred_test))\n",
    "        r2_max_index = r2_all.index(np.max(r2_all))        \n",
    "        rmse_max_index = rmse_all.index(np.min(rmse_all))\n",
    "        mape_max_index = mape_all.index(np.min(mape_all))\n",
    "        ### After Dropping Features Causing Mulicollinearity ###\n",
    "        X2 = grad.drop(['Graduated 4-Year (%)', 'AP-Total Exams', 'Enrolled 4-Year', 'Total Graduated', 'AP-11&12 Participating Students', 'SAT-Total', 'Wealth/ADA'], axis=1).values\n",
    "        y2 = grad['Graduated 4-Year (%)'].values\n",
    "        X_train2, X_test2, y_train2, y_test2 = train_test_split(X2, y2, test_size=test_size, random_state=i)\n",
    "        linear_reg = LinearRegression()\n",
    "        linear_reg.fit(X_train2, y_train2)\n",
    "        y_pred_test2 = linear_reg.predict(X_test2)\n",
    "        y_pred_train2 = linear_reg.predict(X_train2)\n",
    "        rmse_drop.append(np.sqrt(mean_squared_error(y_test2, y_pred_test2)))\n",
    "        r2_drop.append(linear_reg.score(X_test2, y_test2))\n",
    "        mape_drop.append(mean_absolute_percentage_error(y_test2, y_pred_test2))\n",
    "        r2_max_index2 = r2_drop.index(np.max(r2_drop))        \n",
    "        rmse_max_index2 = rmse_drop.index(np.min(rmse_drop))\n",
    "        mape_max_index2 = mape_drop.index(np.min(mape_drop))\n",
    "    print('*All Features: Performance on Test Set*')\n",
    "    print('\\nAverage Results from different Random States:')\n",
    "    print('RMSE: ', np.mean(rmse_all), 'r2: ', np.mean(r2_all), 'MAPE: ', np.mean(mape_all))\n",
    "    print('\\nBest RMSE: ', rmse_all[rmse_max_index], 'Random State: ', rmse_max_index)\n",
    "    print('Best r2: ', r2_all[r2_max_index], 'Random State: ', r2_max_index)\n",
    "    print('Best MAPE: ', mape_all[mape_max_index], 'Random State: ', mape_max_index)\n",
    "\n",
    "    print('\\n*After Dropping Features: Performance on Test Set*')\n",
    "    print('\\nAverage Results from different Random States:')\n",
    "    print('RMSE: ', np.mean(rmse_drop), 'r2: ', np.mean(r2_drop), 'MAPE: ', np.mean(mape_drop))\n",
    "    print('\\nBest RMSE: ', rmse_drop[rmse_max_index2], 'Random State: ', rmse_max_index2)\n",
    "    print('Best r2: ', r2_drop[r2_max_index2], 'Random State: ', r2_max_index2)\n",
    "    print('Best MAPE: ', mape_drop[mape_max_index2], 'Random State: ', mape_max_index2)\n",
    "\n"
   ]
  },
  {
   "cell_type": "markdown",
   "metadata": {},
   "source": [
    "\n",
    "********* SUMMARY OF ALL THE ABOVE CELLS/EXERCISES *********************\n",
    "\n",
    "1. \n",
    "I started with an OLS model in which I utilized all of the features I collected. I utilized a 75 - 25 split and a random state of 42. After training and fitting the model, I printed out a summary of the OLS model in which R2 was .96\n",
    "I also received a multicollinearity warning in the summary as the condition number was too high. \n",
    "\n",
    "2. \n",
    "After finding the features that are causing the collinearity in the Data Analysis notebook, I dropped the features and repeated (1) with the same train test split and random state. I found that R2 barely decreased from .96 to .959 and that the multicollinearity warning was gone. \n",
    "\n",
    "3. \n",
    "I then utilized linear regression in scikit learn to the view resulting RMSE, r2, and MAPE metrics for evaluating model performance with all features versus without the features causing multicollinearity. I used several different testing sizes and 1000 different random states for each testing size. I then took the average metric scores for each testing size for all features and after dropping certain features. I did this to eliminate bias for how the data was split up into training and testing sets to make a reasonable conclusion on how dropping certain features affects model performance. \n",
    "\n",
    "For all the different testing sizes and random states, I can not reasonably say that dropping certain features will result in a better performing Linear Regression model. \n",
    "\n",
    "I also provided the best results for each case to use going forward as our goal is to get the best performing model. Once again, we cant see a consistent trend in the difference between the best scores for all features versus dropping select features. \n",
    "\n",
    "Going forward, I will use all available features, testing size of .2, and random state of 639. \n"
   ]
  },
  {
   "cell_type": "code",
   "execution_count": 38,
   "metadata": {},
   "outputs": [
    {
     "name": "stdout",
     "output_type": "stream",
     "text": [
      "Linear Regression\n",
      "Training RMSE: 8.205665471245794 Testing RMSE: 6.198273680955048\n",
      "\n",
      "Training R2:  0.5754095033931913 Testing R2:  0.7441823938418588\n",
      "\n",
      "Training MAPE:  18.109866126554923 Testing MAPE:  14.549309277352723\n",
      "\n",
      "Ridge(alpha=1.0, copy_X=True, fit_intercept=True, max_iter=None,\n",
      "      normalize=False, random_state=None, solver='auto', tol=0.001)\n",
      "Training RMSE: 8.205669056585874 Testing RMSE: 6.198721955015161\n",
      "\n",
      "Training R2:  0.5754091323564576 Testing R2:  0.7441453898147055\n",
      "\n",
      "Training MAPE:  18.109189420233786 Testing MAPE:  14.554301954466315\n",
      "\n",
      "Lasso(alpha=1.0, copy_X=True, fit_intercept=True, max_iter=1000,\n",
      "      normalize=False, positive=False, precompute=False, random_state=None,\n",
      "      selection='cyclic', tol=0.0001, warm_start=False)\n",
      "Training RMSE: 8.2374949316565 Testing RMSE: 6.239775007211057\n",
      "\n",
      "Training R2:  0.5721091744835733 Testing R2:  0.740745206829085\n",
      "\n",
      "Training MAPE:  18.012894440793335 Testing MAPE:  14.813833443845095\n"
     ]
    }
   ],
   "source": [
    "#### Evaluating Ridge and Lasso Model Performance ####\n",
    "### ALSO ADDING SCALER (Robust Gave Best Results) ###\n",
    "\n",
    "from sklearn.pipeline import Pipeline, make_pipeline\n",
    "from sklearn.preprocessing import RobustScaler, MinMaxScaler, Normalizer, StandardScaler\n",
    "from sklearn.model_selection import GridSearchCV\n",
    "\n",
    "\n",
    "grad = pd.read_csv('Feature_Target_Data.csv')\n",
    "years = [2011, 2012, 2013, 2014]\n",
    "grad = grad.loc[grad['Year'].isin(years)]\n",
    "grad = grad[grad.columns[3:]]\n",
    "X = grad.drop('Graduated 4-Year (%)', axis=1).values\n",
    "y = grad['Graduated 4-Year (%)'].values\n",
    "linear_reg = LinearRegression()\n",
    "steps = [('scaler', RobustScaler()), ('reg', LinearRegression())]\n",
    "linear_reg = Pipeline(steps)\n",
    "X_train, X_test, y_train, y_test = train_test_split(X, y, test_size=.2, random_state=639)\n",
    "linear_reg.fit(X_train, y_train)\n",
    "y_pred_train = linear_reg.predict(X_train)\n",
    "y_pred_test = linear_reg.predict(X_test)\n",
    "print('Linear Regression')\n",
    "print('Training RMSE:', np.sqrt(mean_squared_error(y_train, y_pred_train)), 'Testing RMSE:', np.sqrt(mean_squared_error(y_test, y_pred_test)))\n",
    "print('\\nTraining R2: ', linear_reg.score(X_train, y_train), 'Testing R2: ', linear_reg.score(X_test, y_test))\n",
    "print('\\nTraining MAPE: ', mean_absolute_percentage_error(y_train, y_pred_train), 'Testing MAPE: ', mean_absolute_percentage_error(y_test, y_pred_test))\n",
    "\n",
    "\n",
    "\n",
    "for regression_model in [Ridge(), Lasso()]:\n",
    "    print('\\n' + str(regression_model))\n",
    "    steps = [('scaler', RobustScaler()), ('reg', regression_model)]\n",
    "    pipeline = Pipeline(steps)\n",
    "    params = {'reg__alpha': [.00001, .0001, .001, .01, .1]}\n",
    "    reg = GridSearchCV(pipeline, param_grid=params, cv=5)\n",
    "    reg.fit(X_train, y_train)\n",
    "    y_pred_train = reg.predict(X_train)\n",
    "    y_pred_test = reg.predict(X_test)\n",
    "    print('Training RMSE:', np.sqrt(mean_squared_error(y_train, y_pred_train)), 'Testing RMSE:', np.sqrt(mean_squared_error(y_test, y_pred_test)))\n",
    "    print('\\nTraining R2: ', reg.score(X_train, y_train), 'Testing R2: ', reg.score(X_test, y_test))\n",
    "    print('\\nTraining MAPE: ', mean_absolute_percentage_error(y_train, y_pred_train), 'Testing MAPE: ', mean_absolute_percentage_error(y_test, y_pred_test))\n"
   ]
  },
  {
   "cell_type": "markdown",
   "metadata": {},
   "source": [
    "\n",
    "In terms of model performance, Ridge and Lasso failed to beat out the Linear regression model, but were very close. Below we can further explore the Linear Regression model with a couple of plots."
   ]
  },
  {
   "cell_type": "code",
   "execution_count": 40,
   "metadata": {},
   "outputs": [
    {
     "data": {
      "text/plain": [
       "Text(0.5, 1.0, 'Actual vs Predicted')"
      ]
     },
     "execution_count": 40,
     "metadata": {},
     "output_type": "execute_result"
    },
    {
     "data": {
      "image/png": "[encoded data removed]",
      "text/plain": [
       "<Figure size 432x288 with 1 Axes>"
      ]
     },
     "metadata": {
      "needs_background": "light"
     },
     "output_type": "display_data"
    }
   ],
   "source": [
    "### Actual vs Predicted Scatterplot ###\n",
    "import matplotlib.pyplot as plt\n",
    "\n",
    "actual = y\n",
    "predicted = linear_reg.predict(X)\n",
    "plt.scatter(predicted, actual)\n",
    "plt.xlabel('Predicted Graduation 4-Year (%)')\n",
    "plt.ylabel('Actual Graduation 4-Year (%)')\n",
    "plt.title('Actual vs Predicted')"
   ]
  },
  {
   "cell_type": "code",
   "execution_count": 62,
   "metadata": {},
   "outputs": [
    {
     "data": {
      "image/png": "[encoded data removed]",
      "text/plain": [
       "<Figure size 432x288 with 2 Axes>"
      ]
     },
     "metadata": {
      "needs_background": "light"
     },
     "output_type": "display_data"
    }
   ],
   "source": [
    "### Predicted vs Residuals Scatterplot ###\n",
    "plt.subplot(2,1,1)\n",
    "residuals = actual - predicted\n",
    "plt.scatter(predicted, residuals)\n",
    "plt.xlabel('Predicted Graduation 4-Year (%)')\n",
    "plt.ylabel('Residual')\n",
    "plt.title('Residual vs Predicted')\n",
    "plt.axhline(y=0, color='r', linestyle='--')\n",
    "\n",
    "### Residuals Histogram ###\n",
    "plt.subplot(2,1,2)\n",
    "plt.hist(residuals, bins=12, edgecolor='black')\n",
    "plt.xlabel('Residuals')\n",
    "plt.ylabel('Count')\n",
    "plt.title('Residual Distribution')\n",
    "conf_int95 = np.percentile(residuals, [2.5, 97.5])\n",
    "conf_int90 = np.percentile(residuals, [5, 95])\n",
    "plt.axvline(x=conf_int95[0], color='green', linestyle='--', label='CI-95')\n",
    "plt.axvline(x=conf_int95[1], color='green', linestyle='--')\n",
    "plt.axvline(x=conf_int90[0], color='orange', linestyle='--', label='CI-90')\n",
    "plt.axvline(x=conf_int90[1], color='orange', linestyle='--')\n",
    "plt.legend()\n",
    "plt.tight_layout()\n",
    "plt.show()\n"
   ]
  },
  {
   "cell_type": "markdown",
   "metadata": {},
   "source": [
    "While the Linear regression model is the best so far, I believe a random forest regression will solve many of the concerns with the size of the dataset and the random state influence. Each tree will draw a random sample from the original data set when generating its splits, adding a further element of randomness that prevents overfitting.\n",
    "\n",
    "The number of features that can be split on at each node is limited to some percentage of the total, which will also help ensures that the ensemble model does not rely too heavily on any individual feature. This makes fair use of all potentially predictive features and helps the issues of multicollinearity explored at the beginning of this notebook. \n",
    "\n",
    "The above modifications help prevent the trees from being too highly correlated"
   ]
  },
  {
   "cell_type": "code",
   "execution_count": 68,
   "metadata": {},
   "outputs": [
    {
     "name": "stdout",
     "output_type": "stream",
     "text": [
      "OOB Score 0.6038270979402521\n",
      "CV - R2:  0.5794867803774137\n",
      "CV - RMSE 8.046683552569263\n",
      "\n",
      "Testing RMSE: 6.219713751732698\n",
      "\n",
      "Testing R2:  0.7424095668119244\n",
      "\n",
      "Testing MAPE:  15.408089588795038\n",
      "\n",
      "\n",
      "____Feature Importance Plot_____\n"
     ]
    },
    {
     "data": {
      "image/png": "[encoded data removed]",
      "text/plain": [
       "<Figure size 864x504 with 1 Axes>"
      ]
     },
     "metadata": {
      "needs_background": "light"
     },
     "output_type": "display_data"
    }
   ],
   "source": [
    "####### RandomForestRegressor #########\n",
    "### All Features ###\n",
    "\n",
    "from sklearn.ensemble import RandomForestRegressor\n",
    "\n",
    "\n",
    "def rf_feat_importance(m, df):\n",
    "    return pd.DataFrame({'cols':df.columns, 'imp':m.feature_importances_}).sort_values('imp', ascending=False)\n",
    "\n",
    "grad = pd.read_csv('Feature_Target_Data.csv')\n",
    "years = [2011, 2012, 2013, 2014]\n",
    "grad = grad.loc[grad['Year'].isin(years)]\n",
    "grad = grad[grad.columns[3:]]\n",
    "X = grad.drop('Graduated 4-Year (%)', axis=1).values\n",
    "y = grad['Graduated 4-Year (%)'].values\n",
    "X_train, X_test, y_train, y_test = train_test_split(X, y, test_size=.2, random_state=639)\n",
    "rfr = RandomForestRegressor(n_estimators=1000, n_jobs=-1, oob_score=True)\n",
    "rfr.fit(X_train, y_train)\n",
    "y_pred_train = rfr.predict(X_train)\n",
    "y_pred_test = rfr.predict(X_test)\n",
    "cv_score_r2 = cross_val_score(rfr, X_train, y_train, cv=4, scoring='r2')\n",
    "cv_score_rmse = cross_val_score(rfr, X_train, y_train, cv=4, scoring='neg_mean_squared_error')\n",
    "fi = rf_feat_importance(rfr, grad[grad.columns[:-1]])\n",
    "def plot_fi(fi): \n",
    "    return fi.plot('cols', 'imp', 'barh', figsize=(12,7), legend=False)\n",
    "plot_fi(fi)\n",
    "print('OOB Score', rfr.oob_score_)\n",
    "print('CV - R2: ', np.mean(cv_score_r2))\n",
    "print('CV - RMSE', np.mean(np.sqrt(abs(cv_score_rmse))))\n",
    "print('\\nTesting RMSE:', np.sqrt(mean_squared_error(y_test, y_pred_test)))\n",
    "print('\\nTesting R2: ', rfr.score(X_test, y_test))\n",
    "print('\\nTesting MAPE: ', mean_absolute_percentage_error(y_test, y_pred_test))\n",
    "print('\\n\\n____Feature Importance Plot_____')\n",
    "\n"
   ]
  },
  {
   "cell_type": "code",
   "execution_count": 69,
   "metadata": {},
   "outputs": [
    {
     "name": "stdout",
     "output_type": "stream",
     "text": [
      "OOB Score 0.6024895629436385\n",
      "CV - R2:  0.583799710313932\n",
      "CV - RMSE 7.9847599573852985\n",
      "\n",
      "Training RMSE: 2.9073156080254177 Testing RMSE: 6.126601604290991\n",
      "\n",
      "Training R2:  0.9467000239769512 Testing R2:  0.750064345562721\n",
      "\n",
      "Training MAPE:  6.489794156751086 Testing MAPE:  15.175057714591192\n"
     ]
    }
   ],
   "source": [
    "### Random Forest Regressor Without Any HyperParameter Tuning ###\n",
    "### After Dropping Certain Features ###\n",
    "\n",
    "from sklearn.model_selection import cross_val_score\n",
    "\n",
    "grad = pd.read_csv('Feature_Target_Data.csv')\n",
    "years = [2011, 2012, 2013, 2014]\n",
    "grad = grad.loc[grad['Year'].isin(years)]\n",
    "grad = grad[grad.columns[3:]]\n",
    "grad = grad.drop(['AP-11&12 Participating Students', 'AP-Total Exams', 'Total Graduated'], axis=1)\n",
    "X = grad.drop('Graduated 4-Year (%)', axis=1).values\n",
    "y = grad['Graduated 4-Year (%)'].values\n",
    "X_train, X_test, y_train, y_test = train_test_split(X, y, test_size=.2, random_state=639)\n",
    "rfr = RandomForestRegressor(n_estimators=1000, n_jobs=-1, oob_score=True)\n",
    "rfr.fit(X_train, y_train)\n",
    "y_pred_train = rfr.predict(X_train)\n",
    "y_pred_test = rfr.predict(X_test)\n",
    "cv_score_r2 = cross_val_score(rfr, X_train, y_train, cv=4, scoring='r2')\n",
    "cv_score_rmse = cross_val_score(rfr, X_train, y_train, cv=4, scoring='neg_mean_squared_error')\n",
    "\n",
    "print('OOB Score', rfr.oob_score_)\n",
    "print('CV - R2: ', np.mean(cv_score_r2))\n",
    "print('CV - RMSE', np.mean(np.sqrt(abs(cv_score_rmse))))\n",
    "print('\\nTraining RMSE:', np.sqrt(mean_squared_error(y_train, y_pred_train)), 'Testing RMSE:', np.sqrt(mean_squared_error(y_test, y_pred_test)))\n",
    "print('\\nTraining R2: ', rfr.score(X_train, y_train), 'Testing R2: ', rfr.score(X_test, y_test))\n",
    "print('\\nTraining MAPE: ', mean_absolute_percentage_error(y_train, y_pred_train), 'Testing MAPE: ', mean_absolute_percentage_error(y_test, y_pred_test))\n"
   ]
  },
  {
   "cell_type": "code",
   "execution_count": 9,
   "metadata": {
    "scrolled": false
   },
   "outputs": [
    {
     "data": {
      "image/png": "[encoded data removed]",
      "text/plain": [
       "<Figure size 432x288 with 1 Axes>"
      ]
     },
     "metadata": {
      "needs_background": "light"
     },
     "output_type": "display_data"
    }
   ],
   "source": [
    "### Exploring OBB Errors, Max_Features, N_Estimators #####\n",
    "\n",
    "from collections import OrderedDict\n",
    "\n",
    "RANDOM_STATE = 639\n",
    "ensemble_clfs = [\n",
    "     (\"RandomForestRegressor, max_features=.5\",\n",
    "        RandomForestRegressor(warm_start=True, oob_score=True,\n",
    "                               max_features=.5,\n",
    "                               random_state=RANDOM_STATE)),\n",
    "     (\"RandomForestClassifier, max_features=1\",\n",
    "        RandomForestRegressor(warm_start=True, oob_score=True,\n",
    "                               max_features=1,\n",
    "                               random_state=RANDOM_STATE)),\n",
    "    (\"RandomForestClassifier, max_features='sqrt'\",\n",
    "        RandomForestRegressor(warm_start=True, oob_score=True,\n",
    "                               max_features=\"sqrt\",\n",
    "                               random_state=RANDOM_STATE)),\n",
    "    (\"RandomForestClassifier, max_features='log2'\",\n",
    "        RandomForestRegressor(warm_start=True, max_features='log2',\n",
    "                               oob_score=True,\n",
    "                               random_state=RANDOM_STATE)),\n",
    "    (\"RandomForestClassifier, max_features=None\",\n",
    "        RandomForestRegressor(warm_start=True, max_features=None,\n",
    "                               oob_score=True,\n",
    "                               random_state=RANDOM_STATE))]\n",
    "error_rate = OrderedDict((label, []) for label, _ in ensemble_clfs)\n",
    "min_estimators = 10\n",
    "max_estimators = 200\n",
    "for label, rfr in ensemble_clfs:\n",
    "    for i in range(min_estimators, max_estimators + 1):\n",
    "        rfr.set_params(n_estimators=i)\n",
    "        rfr.fit(X, y)\n",
    "        oob_error = 1 - rfr.oob_score_\n",
    "        error_rate[label].append((i, oob_error))\n",
    "for label, rfr_err in error_rate.items():\n",
    "    xs, ys = zip(*rfr_err)\n",
    "    plt.plot(xs, ys, label=label)\n",
    "\n",
    "plt.xlim(min_estimators, max_estimators)\n",
    "plt.xlabel(\"n_estimators\")\n",
    "plt.ylabel(\"OOB error rate\")\n",
    "plt.legend(loc=\"upper right\")\n",
    "plt.show()"
   ]
  },
  {
   "cell_type": "code",
   "execution_count": 65,
   "metadata": {},
   "outputs": [
    {
     "name": "stdout",
     "output_type": "stream",
     "text": [
      "\n",
      "OOB Score:  0.6159060637474676\n",
      "\n",
      "Best Params: {'max_features': 'sqrt', 'min_samples_leaf': 1, 'n_estimators': 1000}\n",
      "CV - Best Score RMSE:  7.915400613052948\n",
      "CV - Best Score R2:  0.5964734926170435\n",
      "\n",
      "Testing RMSE: 6.214637833657039\n",
      "\n",
      "Testing R2:  0.7428298351581777\n",
      "\n",
      "Testing MAPE:  15.143943380490605\n"
     ]
    }
   ],
   "source": [
    "### HyperParamter Tuning ###\n",
    "### All Features ###\n",
    "scorers = {\n",
    "    'r2': 'r2',\n",
    "    'mse': 'neg_mean_squared_error'}\n",
    "\n",
    "grad = pd.read_csv('Feature_Target_Data.csv')\n",
    "years = [2011, 2012, 2013, 2014]\n",
    "grad = grad.loc[grad['Year'].isin(years)]\n",
    "grad = grad[grad.columns[3:]]\n",
    "X = grad.drop('Graduated 4-Year (%)', axis=1).values\n",
    "y = grad['Graduated 4-Year (%)'].values\n",
    "X_train, X_test, y_train, y_test = train_test_split(X, y, test_size=.2, random_state=639)\n",
    "rfr = RandomForestRegressor(n_jobs=-1, random_state=639, criterion='mse', oob_score=True)\n",
    "grid_search = GridSearchCV(rfr, \n",
    "                           param_grid={\n",
    "                                       \"n_estimators\": [100, 200, 600, 1000],\n",
    "                                       \"min_samples_leaf\": [5, 3, 2, 1],\n",
    "                                       \"max_features\": ['sqrt', 'log2', .5, None]\n",
    "                                       },\n",
    "                           n_jobs=-1,\n",
    "                           cv=4,\n",
    "                           iid=False, # just return the average score across folds\n",
    "                           return_train_score=False, scoring = scorers, refit = 'r2')\n",
    "grid_search.fit(X_train, y_train)\n",
    "y_pred_test = grid_search.predict(X_test)\n",
    "y_pred_train = grid_search.predict(X_train)\n",
    "y_pred_test = grid_search.predict(X_test)\n",
    "OOB = grid_search.best_estimator_\n",
    "print('\\nOOB Score: ', OOB.oob_score_)\n",
    "print('\\nBest Params:', grid_search.best_params_)\n",
    "print('CV - Best Score RMSE: ', min(np.sqrt(abs(grid_search.cv_results_['mean_test_mse']))))\n",
    "print('CV - Best Score R2: ', grid_search.best_score_)\n",
    "print('\\nTesting RMSE:', np.sqrt(mean_squared_error(y_test, y_pred_test)))\n",
    "print('\\nTesting R2: ', grid_search.score(X_test, y_test))\n",
    "print('\\nTesting MAPE: ', mean_absolute_percentage_error(y_test, y_pred_test))"
   ]
  },
  {
   "cell_type": "code",
   "execution_count": 64,
   "metadata": {},
   "outputs": [
    {
     "name": "stdout",
     "output_type": "stream",
     "text": [
      "\n",
      "OOB Score:  0.6105412970855798\n",
      "\n",
      "Best Params: {'max_features': 'sqrt', 'min_samples_leaf': 1, 'n_estimators': 1000}\n",
      "CV - Best Score RMSE:  7.866229121528453\n",
      "CV - Best Score R2:  0.600891663268329\n",
      "\n",
      "Testing RMSE: 6.128188360330119\n",
      "\n",
      "Testing R2:  0.7499348648843283\n",
      "\n",
      "Testing MAPE:  15.185230810074193\n"
     ]
    }
   ],
   "source": [
    "### HyperParameter Tuning ###\n",
    "### Dropping Certain Features ###\n",
    "\n",
    "grad = pd.read_csv('Feature_Target_Data.csv')\n",
    "years = [2011, 2012, 2013, 2014]\n",
    "grad = grad.loc[grad['Year'].isin(years)]\n",
    "grad = grad[grad.columns[3:]]\n",
    "grad = grad.drop(['AP-11&12 Participating Students', 'AP-Total Exams', 'Total Graduated', 'Enrolled 4-Year (%)'], axis=1)\n",
    "X = grad.drop('Graduated 4-Year (%)', axis=1).values\n",
    "y = grad['Graduated 4-Year (%)'].values\n",
    "X_train, X_test, y_train, y_test = train_test_split(X, y, test_size=.2, random_state=639)\n",
    "rfr = RandomForestRegressor(n_jobs=-1, random_state=639, criterion='mse', oob_score=True)\n",
    "grid_search = GridSearchCV(rfr, \n",
    "                           param_grid={\n",
    "                                       \"n_estimators\": [100, 200, 600, 1000],\n",
    "                                       \"min_samples_leaf\": [5, 3, 2, 1],\n",
    "                                       \"max_features\": ['sqrt', 'log2', .5, None]\n",
    "                                       },\n",
    "                           n_jobs=-1,\n",
    "                           cv=4,\n",
    "                           iid=False, # just return the average score across folds\n",
    "                           return_train_score=False, scoring = scorers, refit = 'r2')\n",
    "grid_search.fit(X_train, y_train)\n",
    "y_pred_test = grid_search.predict(X_test)\n",
    "y_pred_train = grid_search.predict(X_train)\n",
    "y_pred_test = grid_search.predict(X_test)\n",
    "OOB = grid_search.best_estimator_\n",
    "print('\\nOOB Score: ', OOB.oob_score_)\n",
    "print('\\nBest Params:', grid_search.best_params_)\n",
    "print('CV - Best Score RMSE: ', min(np.sqrt(abs(grid_search.cv_results_['mean_test_mse']))))\n",
    "print('CV - Best Score R2: ', grid_search.best_score_)\n",
    "print('\\nTesting RMSE:', np.sqrt(mean_squared_error(y_test, y_pred_test)))\n",
    "print('\\nTesting R2: ', grid_search.score(X_test, y_test))\n",
    "print('\\nTesting MAPE: ', mean_absolute_percentage_error(y_test, y_pred_test))"
   ]
  },
  {
   "cell_type": "code",
   "execution_count": 67,
   "metadata": {},
   "outputs": [
    {
     "name": "stdout",
     "output_type": "stream",
     "text": [
      "\n",
      "OOB Score:  0.612505757170242\n",
      "\n",
      "Best Params: {'max_features': 'sqrt', 'min_samples_leaf': 1, 'n_estimators': 600}\n",
      "CV - Best Score RMSE:  7.850698236998814\n",
      "CV - Best Score R2:  0.6029203535297465\n",
      "\n",
      "Testing RMSE: 6.10987153382589\n",
      "\n",
      "Testing R2:  0.7514274934202592\n",
      "\n",
      "Testing MAPE:  15.051822216364869\n"
     ]
    }
   ],
   "source": [
    "### Shuffling Training Data ###\n",
    "\n",
    "grad = pd.read_csv('Feature_Target_Data.csv')\n",
    "years = [2011, 2012, 2013, 2014]\n",
    "grad = grad.loc[grad['Year'].isin(years)]\n",
    "grad = grad[grad.columns[3:]]\n",
    "grad = grad.drop(['AP-11&12 Participating Students', 'AP-Total Exams', 'Total Graduated', 'Enrolled 4-Year (%)'], axis=1)\n",
    "X = grad.drop('Graduated 4-Year (%)', axis=1).values\n",
    "y = grad['Graduated 4-Year (%)'].values\n",
    "X_train, X_test, y_train, y_test = train_test_split(X, y, test_size=.2, random_state=639)\n",
    "rfr = RandomForestRegressor(n_jobs=-1, criterion='mse', oob_score=True)\n",
    "grid_search = GridSearchCV(rfr, \n",
    "                           param_grid={\n",
    "                                       \"n_estimators\": [100, 200, 600, 1000],\n",
    "                                       \"min_samples_leaf\": [5, 3, 2, 1],\n",
    "                                       \"max_features\": ['sqrt', 'log2', .5, None]\n",
    "                                       },\n",
    "                           n_jobs=-1,\n",
    "                           cv=4,\n",
    "                           iid=False, # just return the average score across folds\n",
    "                           return_train_score=False, scoring = scorers, refit = 'r2')\n",
    "grid_search.fit(X_train, y_train)\n",
    "y_pred_test = grid_search.predict(X_test)\n",
    "y_pred_train = grid_search.predict(X_train)\n",
    "y_pred_test = grid_search.predict(X_test)\n",
    "OOB = grid_search.best_estimator_\n",
    "print('\\nOOB Score: ', OOB.oob_score_)\n",
    "print('\\nBest Params:', grid_search.best_params_)\n",
    "print('CV - Best Score RMSE: ', min(np.sqrt(abs(grid_search.cv_results_['mean_test_mse']))))\n",
    "print('CV - Best Score R2: ', grid_search.best_score_)\n",
    "print('\\nTesting RMSE:', np.sqrt(mean_squared_error(y_test, y_pred_test)))\n",
    "print('\\nTesting R2: ', grid_search.score(X_test, y_test))\n",
    "print('\\nTesting MAPE: ', mean_absolute_percentage_error(y_test, y_pred_test))"
   ]
  },
  {
   "cell_type": "markdown",
   "metadata": {},
   "source": [
    "The introduced randomness above helped the model train on folds containing different records of the training data. In this case, it resulted in better performance on the test set. This will be the model I will utilize going forward."
   ]
  },
  {
   "cell_type": "code",
   "execution_count": 71,
   "metadata": {},
   "outputs": [
    {
     "data": {
      "text/plain": [
       "Text(0.5, 1.0, 'Actual vs Predicted')"
      ]
     },
     "execution_count": 71,
     "metadata": {},
     "output_type": "execute_result"
    },
    {
     "data": {
      "image/png": "[encoded data removed]",
      "text/plain": [
       "<Figure size 432x288 with 1 Axes>"
      ]
     },
     "metadata": {
      "needs_background": "light"
     },
     "output_type": "display_data"
    }
   ],
   "source": [
    "### Actual vs Predicted Scatterplot ###\n",
    "actual = y\n",
    "predicted = grid_search.predict(X)\n",
    "plt.scatter(predicted, actual)\n",
    "plt.xlabel('Predicted Graduation 4-Year (%)')\n",
    "plt.ylabel('Actual Graduation 4-Year (%)')\n",
    "plt.title('Actual vs Predicted')"
   ]
  },
  {
   "cell_type": "code",
   "execution_count": 72,
   "metadata": {},
   "outputs": [
    {
     "data": {
      "image/png": "[encoded data removed]",
      "text/plain": [
       "<Figure size 432x288 with 2 Axes>"
      ]
     },
     "metadata": {
      "needs_background": "light"
     },
     "output_type": "display_data"
    }
   ],
   "source": [
    "### Predicted vs Residuals Scatterplot ###\n",
    "plt.subplot(2,1,1)\n",
    "residuals = actual - predicted\n",
    "plt.scatter(predicted, residuals)\n",
    "plt.xlabel('Predicted Graduation 4-Year (%)')\n",
    "plt.ylabel('Residual')\n",
    "plt.title('Residual vs Predicted')\n",
    "plt.axhline(y=0, color='r', linestyle='--')\n",
    "\n",
    "### Residuals Histogram ###\n",
    "plt.subplot(2,1,2)\n",
    "plt.hist(residuals, bins=12, edgecolor='black')\n",
    "plt.xlabel('Residuals')\n",
    "plt.ylabel('Count')\n",
    "plt.title('Residual Distribution')\n",
    "conf_int95 = np.percentile(residuals, [2.5, 97.5])\n",
    "conf_int90 = np.percentile(residuals, [5, 95])\n",
    "plt.axvline(x=conf_int95[0], color='green', linestyle='--', label='CI-95')\n",
    "plt.axvline(x=conf_int95[1], color='green', linestyle='--')\n",
    "plt.axvline(x=conf_int90[0], color='orange', linestyle='--', label='CI-90')\n",
    "plt.axvline(x=conf_int90[1], color='orange', linestyle='--')\n",
    "plt.legend()\n",
    "plt.tight_layout()\n",
    "plt.show()\n"
   ]
  },
  {
   "cell_type": "code",
   "execution_count": 76,
   "metadata": {},
   "outputs": [
    {
     "name": "stdout",
     "output_type": "stream",
     "text": [
      "    ACT-Composite  ACT-Part_Rate  AP-Passed(%)  AP-Exams Taken Per Student  \\\n",
      "0            24.2             51            66                         2.2   \n",
      "1            23.9             52            66                         2.4   \n",
      "2            24.7             65            69                         2.3   \n",
      "3            24.7             59            74                         2.3   \n",
      "4            24.5             60            72                         2.3   \n",
      "5            24.0             65            77                         2.4   \n",
      "6            24.5             63            75                         2.4   \n",
      "7            17.7             26            16                         1.8   \n",
      "8            17.7             29            19                         1.7   \n",
      "9            17.8             29            18                         1.8   \n",
      "10           17.7             37            17                         1.8   \n",
      "11           18.2             21            14                         1.8   \n",
      "12           17.7             22            16                         1.9   \n",
      "13           17.9             19            16                         1.7   \n",
      "14           24.9             49            63                         2.1   \n",
      "15           24.2             52            68                         2.1   \n",
      "16           23.9             52            61                         2.1   \n",
      "17           24.1             62            68                         2.1   \n",
      "18           24.2             60            61                         2.3   \n",
      "19           23.7             57            61                         2.4   \n",
      "\n",
      "    Enrolled 4-Year  SAT-Total  SAT-Part_Rate   Wealth/ADA  \\\n",
      "0                73       1180             88  1.09827e+06   \n",
      "1               101       1175             85  1.06159e+06   \n",
      "2               102       1179             85  1.05601e+06   \n",
      "3               104       1179             84  1.08145e+06   \n",
      "4                75       1164             79          NaN   \n",
      "5                95       1158             82          NaN   \n",
      "6               118       1159             79          NaN   \n",
      "7               496        959             52       227596   \n",
      "8               523        956             49       210385   \n",
      "9               447        938             52       211736   \n",
      "10              542        948             53       215342   \n",
      "11              539        873             88          NaN   \n",
      "12              529        846             94          NaN   \n",
      "13              569        876             93          NaN   \n",
      "14               97       1164             81       571536   \n",
      "15               90       1154             70       578269   \n",
      "16               82       1148             75       541482   \n",
      "17               95       1147             75       520317   \n",
      "18              103       1154             66          NaN   \n",
      "19              108       1140             67          NaN   \n",
      "\n",
      "   Graduated 4-Year (%)  \n",
      "0                    59  \n",
      "1                    42  \n",
      "2                    65  \n",
      "3                    56  \n",
      "4                   NaN  \n",
      "5                   NaN  \n",
      "6                   NaN  \n",
      "7                    19  \n",
      "8                    23  \n",
      "9                    24  \n",
      "10                   24  \n",
      "11                  NaN  \n",
      "12                  NaN  \n",
      "13                  NaN  \n",
      "14                   47  \n",
      "15                   64  \n",
      "16                   50  \n",
      "17                   55  \n",
      "18                  NaN  \n",
      "19                  NaN  \n"
     ]
    },
    {
     "ename": "ValueError",
     "evalue": "Input contains NaN, infinity or a value too large for dtype('float32').",
     "output_type": "error",
     "traceback": [
      "\u001b[1;31m---------------------------------------------------------------------------\u001b[0m",
      "\u001b[1;31mValueError\u001b[0m                                Traceback (most recent call last)",
      "\u001b[1;32m<ipython-input-76-0c0fb8986e36>\u001b[0m in \u001b[0;36m<module>\u001b[1;34m\u001b[0m\n\u001b[0;32m     10\u001b[0m         \u001b[0mfeatures\u001b[0m \u001b[1;33m=\u001b[0m \u001b[1;33m[\u001b[0m\u001b[0mrow\u001b[0m\u001b[1;33m[\u001b[0m\u001b[0mcol\u001b[0m\u001b[1;33m]\u001b[0m \u001b[1;32mfor\u001b[0m \u001b[0mcol\u001b[0m \u001b[1;32min\u001b[0m \u001b[0mcolumns\u001b[0m\u001b[1;33m]\u001b[0m\u001b[1;33m\u001b[0m\u001b[1;33m\u001b[0m\u001b[0m\n\u001b[0;32m     11\u001b[0m         \u001b[0mfeatures\u001b[0m \u001b[1;33m=\u001b[0m \u001b[0mnp\u001b[0m\u001b[1;33m.\u001b[0m\u001b[0marray\u001b[0m\u001b[1;33m(\u001b[0m\u001b[0mfeatures\u001b[0m\u001b[1;33m)\u001b[0m\u001b[1;33m.\u001b[0m\u001b[0mreshape\u001b[0m\u001b[1;33m(\u001b[0m\u001b[1;36m1\u001b[0m\u001b[1;33m,\u001b[0m \u001b[1;33m-\u001b[0m\u001b[1;36m1\u001b[0m\u001b[1;33m)\u001b[0m\u001b[1;33m\u001b[0m\u001b[1;33m\u001b[0m\u001b[0m\n\u001b[1;32m---> 12\u001b[1;33m         \u001b[0mpredicted\u001b[0m\u001b[1;33m.\u001b[0m\u001b[0mloc\u001b[0m\u001b[1;33m[\u001b[0m\u001b[0midx\u001b[0m\u001b[1;33m,\u001b[0m \u001b[1;34m'Graduated 4-Year (%)'\u001b[0m\u001b[1;33m]\u001b[0m \u001b[1;33m=\u001b[0m \u001b[0mgrid_search\u001b[0m\u001b[1;33m.\u001b[0m\u001b[0mpredict\u001b[0m\u001b[1;33m(\u001b[0m\u001b[0mfeatures\u001b[0m\u001b[1;33m)\u001b[0m\u001b[1;33m\u001b[0m\u001b[1;33m\u001b[0m\u001b[0m\n\u001b[0m\u001b[0;32m     13\u001b[0m \u001b[0mprint\u001b[0m\u001b[1;33m(\u001b[0m\u001b[0mpredicted\u001b[0m\u001b[1;33m.\u001b[0m\u001b[0mhead\u001b[0m\u001b[1;33m(\u001b[0m\u001b[1;36m40\u001b[0m\u001b[1;33m)\u001b[0m\u001b[1;33m)\u001b[0m\u001b[1;33m\u001b[0m\u001b[1;33m\u001b[0m\u001b[0m\n",
      "\u001b[1;32m~\\Anaconda3\\lib\\site-packages\\sklearn\\utils\\metaestimators.py\u001b[0m in \u001b[0;36m<lambda>\u001b[1;34m(*args, **kwargs)\u001b[0m\n\u001b[0;32m    114\u001b[0m \u001b[1;33m\u001b[0m\u001b[0m\n\u001b[0;32m    115\u001b[0m         \u001b[1;31m# lambda, but not partial, allows help() to work with update_wrapper\u001b[0m\u001b[1;33m\u001b[0m\u001b[1;33m\u001b[0m\u001b[1;33m\u001b[0m\u001b[0m\n\u001b[1;32m--> 116\u001b[1;33m         \u001b[0mout\u001b[0m \u001b[1;33m=\u001b[0m \u001b[1;32mlambda\u001b[0m \u001b[1;33m*\u001b[0m\u001b[0margs\u001b[0m\u001b[1;33m,\u001b[0m \u001b[1;33m**\u001b[0m\u001b[0mkwargs\u001b[0m\u001b[1;33m:\u001b[0m \u001b[0mself\u001b[0m\u001b[1;33m.\u001b[0m\u001b[0mfn\u001b[0m\u001b[1;33m(\u001b[0m\u001b[0mobj\u001b[0m\u001b[1;33m,\u001b[0m \u001b[1;33m*\u001b[0m\u001b[0margs\u001b[0m\u001b[1;33m,\u001b[0m \u001b[1;33m**\u001b[0m\u001b[0mkwargs\u001b[0m\u001b[1;33m)\u001b[0m\u001b[1;33m\u001b[0m\u001b[1;33m\u001b[0m\u001b[0m\n\u001b[0m\u001b[0;32m    117\u001b[0m         \u001b[1;31m# update the docstring of the returned function\u001b[0m\u001b[1;33m\u001b[0m\u001b[1;33m\u001b[0m\u001b[1;33m\u001b[0m\u001b[0m\n\u001b[0;32m    118\u001b[0m         \u001b[0mupdate_wrapper\u001b[0m\u001b[1;33m(\u001b[0m\u001b[0mout\u001b[0m\u001b[1;33m,\u001b[0m \u001b[0mself\u001b[0m\u001b[1;33m.\u001b[0m\u001b[0mfn\u001b[0m\u001b[1;33m)\u001b[0m\u001b[1;33m\u001b[0m\u001b[1;33m\u001b[0m\u001b[0m\n",
      "\u001b[1;32m~\\Anaconda3\\lib\\site-packages\\sklearn\\model_selection\\_search.py\u001b[0m in \u001b[0;36mpredict\u001b[1;34m(self, X)\u001b[0m\n\u001b[0;32m    455\u001b[0m         \"\"\"\n\u001b[0;32m    456\u001b[0m         \u001b[0mself\u001b[0m\u001b[1;33m.\u001b[0m\u001b[0m_check_is_fitted\u001b[0m\u001b[1;33m(\u001b[0m\u001b[1;34m'predict'\u001b[0m\u001b[1;33m)\u001b[0m\u001b[1;33m\u001b[0m\u001b[1;33m\u001b[0m\u001b[0m\n\u001b[1;32m--> 457\u001b[1;33m         \u001b[1;32mreturn\u001b[0m \u001b[0mself\u001b[0m\u001b[1;33m.\u001b[0m\u001b[0mbest_estimator_\u001b[0m\u001b[1;33m.\u001b[0m\u001b[0mpredict\u001b[0m\u001b[1;33m(\u001b[0m\u001b[0mX\u001b[0m\u001b[1;33m)\u001b[0m\u001b[1;33m\u001b[0m\u001b[1;33m\u001b[0m\u001b[0m\n\u001b[0m\u001b[0;32m    458\u001b[0m \u001b[1;33m\u001b[0m\u001b[0m\n\u001b[0;32m    459\u001b[0m     \u001b[1;33m@\u001b[0m\u001b[0mif_delegate_has_method\u001b[0m\u001b[1;33m(\u001b[0m\u001b[0mdelegate\u001b[0m\u001b[1;33m=\u001b[0m\u001b[1;33m(\u001b[0m\u001b[1;34m'best_estimator_'\u001b[0m\u001b[1;33m,\u001b[0m \u001b[1;34m'estimator'\u001b[0m\u001b[1;33m)\u001b[0m\u001b[1;33m)\u001b[0m\u001b[1;33m\u001b[0m\u001b[1;33m\u001b[0m\u001b[0m\n",
      "\u001b[1;32m~\\Anaconda3\\lib\\site-packages\\sklearn\\ensemble\\forest.py\u001b[0m in \u001b[0;36mpredict\u001b[1;34m(self, X)\u001b[0m\n\u001b[0;32m    691\u001b[0m         \u001b[0mcheck_is_fitted\u001b[0m\u001b[1;33m(\u001b[0m\u001b[0mself\u001b[0m\u001b[1;33m,\u001b[0m \u001b[1;34m'estimators_'\u001b[0m\u001b[1;33m)\u001b[0m\u001b[1;33m\u001b[0m\u001b[1;33m\u001b[0m\u001b[0m\n\u001b[0;32m    692\u001b[0m         \u001b[1;31m# Check data\u001b[0m\u001b[1;33m\u001b[0m\u001b[1;33m\u001b[0m\u001b[1;33m\u001b[0m\u001b[0m\n\u001b[1;32m--> 693\u001b[1;33m         \u001b[0mX\u001b[0m \u001b[1;33m=\u001b[0m \u001b[0mself\u001b[0m\u001b[1;33m.\u001b[0m\u001b[0m_validate_X_predict\u001b[0m\u001b[1;33m(\u001b[0m\u001b[0mX\u001b[0m\u001b[1;33m)\u001b[0m\u001b[1;33m\u001b[0m\u001b[1;33m\u001b[0m\u001b[0m\n\u001b[0m\u001b[0;32m    694\u001b[0m \u001b[1;33m\u001b[0m\u001b[0m\n\u001b[0;32m    695\u001b[0m         \u001b[1;31m# Assign chunk of trees to jobs\u001b[0m\u001b[1;33m\u001b[0m\u001b[1;33m\u001b[0m\u001b[1;33m\u001b[0m\u001b[0m\n",
      "\u001b[1;32m~\\Anaconda3\\lib\\site-packages\\sklearn\\ensemble\\forest.py\u001b[0m in \u001b[0;36m_validate_X_predict\u001b[1;34m(self, X)\u001b[0m\n\u001b[0;32m    357\u001b[0m                                  \"call `fit` before exploiting the model.\")\n\u001b[0;32m    358\u001b[0m \u001b[1;33m\u001b[0m\u001b[0m\n\u001b[1;32m--> 359\u001b[1;33m         \u001b[1;32mreturn\u001b[0m \u001b[0mself\u001b[0m\u001b[1;33m.\u001b[0m\u001b[0mestimators_\u001b[0m\u001b[1;33m[\u001b[0m\u001b[1;36m0\u001b[0m\u001b[1;33m]\u001b[0m\u001b[1;33m.\u001b[0m\u001b[0m_validate_X_predict\u001b[0m\u001b[1;33m(\u001b[0m\u001b[0mX\u001b[0m\u001b[1;33m,\u001b[0m \u001b[0mcheck_input\u001b[0m\u001b[1;33m=\u001b[0m\u001b[1;32mTrue\u001b[0m\u001b[1;33m)\u001b[0m\u001b[1;33m\u001b[0m\u001b[1;33m\u001b[0m\u001b[0m\n\u001b[0m\u001b[0;32m    360\u001b[0m \u001b[1;33m\u001b[0m\u001b[0m\n\u001b[0;32m    361\u001b[0m     \u001b[1;33m@\u001b[0m\u001b[0mproperty\u001b[0m\u001b[1;33m\u001b[0m\u001b[1;33m\u001b[0m\u001b[0m\n",
      "\u001b[1;32m~\\Anaconda3\\lib\\site-packages\\sklearn\\tree\\tree.py\u001b[0m in \u001b[0;36m_validate_X_predict\u001b[1;34m(self, X, check_input)\u001b[0m\n\u001b[0;32m    389\u001b[0m         \u001b[1;34m\"\"\"Validate X whenever one tries to predict, apply, predict_proba\"\"\"\u001b[0m\u001b[1;33m\u001b[0m\u001b[1;33m\u001b[0m\u001b[0m\n\u001b[0;32m    390\u001b[0m         \u001b[1;32mif\u001b[0m \u001b[0mcheck_input\u001b[0m\u001b[1;33m:\u001b[0m\u001b[1;33m\u001b[0m\u001b[1;33m\u001b[0m\u001b[0m\n\u001b[1;32m--> 391\u001b[1;33m             \u001b[0mX\u001b[0m \u001b[1;33m=\u001b[0m \u001b[0mcheck_array\u001b[0m\u001b[1;33m(\u001b[0m\u001b[0mX\u001b[0m\u001b[1;33m,\u001b[0m \u001b[0mdtype\u001b[0m\u001b[1;33m=\u001b[0m\u001b[0mDTYPE\u001b[0m\u001b[1;33m,\u001b[0m \u001b[0maccept_sparse\u001b[0m\u001b[1;33m=\u001b[0m\u001b[1;34m\"csr\"\u001b[0m\u001b[1;33m)\u001b[0m\u001b[1;33m\u001b[0m\u001b[1;33m\u001b[0m\u001b[0m\n\u001b[0m\u001b[0;32m    392\u001b[0m             if issparse(X) and (X.indices.dtype != np.intc or\n\u001b[0;32m    393\u001b[0m                                 X.indptr.dtype != np.intc):\n",
      "\u001b[1;32m~\\Anaconda3\\lib\\site-packages\\sklearn\\utils\\validation.py\u001b[0m in \u001b[0;36mcheck_array\u001b[1;34m(array, accept_sparse, accept_large_sparse, dtype, order, copy, force_all_finite, ensure_2d, allow_nd, ensure_min_samples, ensure_min_features, warn_on_dtype, estimator)\u001b[0m\n\u001b[0;32m    540\u001b[0m         \u001b[1;32mif\u001b[0m \u001b[0mforce_all_finite\u001b[0m\u001b[1;33m:\u001b[0m\u001b[1;33m\u001b[0m\u001b[1;33m\u001b[0m\u001b[0m\n\u001b[0;32m    541\u001b[0m             _assert_all_finite(array,\n\u001b[1;32m--> 542\u001b[1;33m                                allow_nan=force_all_finite == 'allow-nan')\n\u001b[0m\u001b[0;32m    543\u001b[0m \u001b[1;33m\u001b[0m\u001b[0m\n\u001b[0;32m    544\u001b[0m     \u001b[1;32mif\u001b[0m \u001b[0mensure_min_samples\u001b[0m \u001b[1;33m>\u001b[0m \u001b[1;36m0\u001b[0m\u001b[1;33m:\u001b[0m\u001b[1;33m\u001b[0m\u001b[1;33m\u001b[0m\u001b[0m\n",
      "\u001b[1;32m~\\Anaconda3\\lib\\site-packages\\sklearn\\utils\\validation.py\u001b[0m in \u001b[0;36m_assert_all_finite\u001b[1;34m(X, allow_nan)\u001b[0m\n\u001b[0;32m     54\u001b[0m                 not allow_nan and not np.isfinite(X).all()):\n\u001b[0;32m     55\u001b[0m             \u001b[0mtype_err\u001b[0m \u001b[1;33m=\u001b[0m \u001b[1;34m'infinity'\u001b[0m \u001b[1;32mif\u001b[0m \u001b[0mallow_nan\u001b[0m \u001b[1;32melse\u001b[0m \u001b[1;34m'NaN, infinity'\u001b[0m\u001b[1;33m\u001b[0m\u001b[1;33m\u001b[0m\u001b[0m\n\u001b[1;32m---> 56\u001b[1;33m             \u001b[1;32mraise\u001b[0m \u001b[0mValueError\u001b[0m\u001b[1;33m(\u001b[0m\u001b[0mmsg_err\u001b[0m\u001b[1;33m.\u001b[0m\u001b[0mformat\u001b[0m\u001b[1;33m(\u001b[0m\u001b[0mtype_err\u001b[0m\u001b[1;33m,\u001b[0m \u001b[0mX\u001b[0m\u001b[1;33m.\u001b[0m\u001b[0mdtype\u001b[0m\u001b[1;33m)\u001b[0m\u001b[1;33m)\u001b[0m\u001b[1;33m\u001b[0m\u001b[1;33m\u001b[0m\u001b[0m\n\u001b[0m\u001b[0;32m     57\u001b[0m     \u001b[1;31m# for object dtype data, we only check for NaNs (GH-13254)\u001b[0m\u001b[1;33m\u001b[0m\u001b[1;33m\u001b[0m\u001b[1;33m\u001b[0m\u001b[0m\n\u001b[0;32m     58\u001b[0m     \u001b[1;32melif\u001b[0m \u001b[0mX\u001b[0m\u001b[1;33m.\u001b[0m\u001b[0mdtype\u001b[0m \u001b[1;33m==\u001b[0m \u001b[0mnp\u001b[0m\u001b[1;33m.\u001b[0m\u001b[0mdtype\u001b[0m\u001b[1;33m(\u001b[0m\u001b[1;34m'object'\u001b[0m\u001b[1;33m)\u001b[0m \u001b[1;32mand\u001b[0m \u001b[1;32mnot\u001b[0m \u001b[0mallow_nan\u001b[0m\u001b[1;33m:\u001b[0m\u001b[1;33m\u001b[0m\u001b[1;33m\u001b[0m\u001b[0m\n",
      "\u001b[1;31mValueError\u001b[0m: Input contains NaN, infinity or a value too large for dtype('float32')."
     ]
    }
   ],
   "source": [
    "### Filling In / Predicting 2015, 2016, 2017 ###\n",
    "historical = pd.read_csv('Feature_Target_Data.csv')\n",
    "predicted = historical.fillna('NaN')\n",
    "predicted = predicted[predicted.columns[3:]]\n",
    "predicted = predicted.drop(['AP-11&12 Participating Students', 'AP-Total Exams', 'Total Graduated', 'Enrolled 4-Year (%)'], axis=1)\n",
    "columns = list(predicted.columns[:-1])\n",
    "print(predicted.head(20))\n",
    "for idx, row in predicted.iterrows():\n",
    "    if row['Graduated 4-Year (%)'] == 'NaN':\n",
    "        features = [row[col] for col in columns]\n",
    "        features = np.array(features).reshape(1, -1)\n",
    "        predicted.loc[idx, 'Graduated 4-Year (%)'] = grid_search.predict(features)\n",
    "print(predicted.head(40))"
   ]
  }
 ],
 "metadata": {
  "kernelspec": {
   "display_name": "Python 3",
   "language": "python",
   "name": "python3"
  },
  "language_info": {
   "codemirror_mode": {
    "name": "ipython",
    "version": 3
   },
   "file_extension": ".py",
   "mimetype": "text/x-python",
   "name": "python",
   "nbconvert_exporter": "python",
   "pygments_lexer": "ipython3",
   "version": "3.7.4"
  }
 },
 "nbformat": 4,
 "nbformat_minor": 2
}
