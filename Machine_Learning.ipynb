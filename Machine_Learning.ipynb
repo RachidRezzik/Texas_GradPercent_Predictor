{
 "cells": [
  {
   "cell_type": "code",
   "execution_count": 1,
   "metadata": {},
   "outputs": [],
   "source": [
    "import pandas as pd\n",
    "import numpy as np\n",
    "from sklearn.metrics import r2_score, mean_squared_error, make_scorer\n",
    "from sklearn.linear_model import LinearRegression, Ridge, Lasso, ElasticNet\n",
    "from sklearn.model_selection import train_test_split"
   ]
  },
  {
   "cell_type": "code",
   "execution_count": 2,
   "metadata": {},
   "outputs": [
    {
     "name": "stdout",
     "output_type": "stream",
     "text": [
      "Training RMSE: 8.039580002590322 \n",
      "Testing RMSE: 7.270472881050807\n",
      "\n",
      "Training R2:  0.5845709858118027 \n",
      "Testing R2:  0.6667216573402157\n",
      "\n",
      "Training MAPE:  17.648364646323063 \n",
      "Testing MAPE:  16.839248356026104\n"
     ]
    }
   ],
   "source": [
    "########## Linear Regression Model for Predicting Graduated 4-Year (%) ############\n",
    "\n",
    "def mean_absolute_percentage_error(y_true, y_pred):\n",
    "    y_true, y_pred = np.array(y_true), np.array(y_pred)\n",
    "    return np.mean(np.abs((y_true - y_pred) / y_true)) * 100\n",
    "\n",
    "grad = pd.read_csv('Feature_Target_Data.csv')\n",
    "years = [2011, 2012, 2013, 2014]\n",
    "grad = grad.loc[grad['Year'].isin(years)]\n",
    "grad = grad[grad.columns[3:]]\n",
    "X = grad.drop('Graduated 4-Year (%)', axis=1).values\n",
    "y = grad['Graduated 4-Year (%)'].values\n",
    "X_train, X_test, y_train, y_test = train_test_split(X, y, test_size=.25, random_state=42)\n",
    "linear_reg = LinearRegression()\n",
    "linear_reg.fit(X_train, y_train)\n",
    "y_pred_test = linear_reg.predict(X_test)\n",
    "y_pred_train = linear_reg.predict(X_train)\n",
    "print('Training RMSE:', np.sqrt(mean_squared_error(y_pred_train, y_train)), '\\nTesting RMSE:', np.sqrt(mean_squared_error(y_pred_test, y_test)))\n",
    "print('\\nTraining R2: ', linear_reg.score(X_train, y_train), '\\nTesting R2: ', linear_reg.score(X_test, y_test))\n",
    "print('\\nTraining MAPE: ', mean_absolute_percentage_error(y_train, y_pred_train), '\\nTesting MAPE: ', mean_absolute_percentage_error(y_test, y_pred_test))"
   ]
  }
 ],
 "metadata": {
  "kernelspec": {
   "display_name": "Python 3",
   "language": "python",
   "name": "python3"
  },
  "language_info": {
   "codemirror_mode": {
    "name": "ipython",
    "version": 3
   },
   "file_extension": ".py",
   "mimetype": "text/x-python",
   "name": "python",
   "nbconvert_exporter": "python",
   "pygments_lexer": "ipython3",
   "version": "3.7.4"
  }
 },
 "nbformat": 4,
 "nbformat_minor": 2
}
