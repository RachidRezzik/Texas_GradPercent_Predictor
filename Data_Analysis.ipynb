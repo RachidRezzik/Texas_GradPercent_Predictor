{
 "cells": [
  {
   "cell_type": "raw",
   "metadata": {},
   "source": [
    "Code used for visuals/analysis of historical school district data within the major regions of Texas  "
   ]
  },
  {
   "cell_type": "code",
   "execution_count": null,
   "metadata": {},
   "outputs": [],
   "source": [
    "total = pd.read_csv('Feature_Target_Data.csv')\n",
    "years = [2011, 2012, 2013, 2014, 2015, 2016, 2017]\n",
    "years2 = [2011, 2012, 2013, 2014]\n",
    "total = total.loc[total['Year'].isin(years)]\n",
    "major_regions = ['Houston', 'San Antonio', 'Austin', 'Richardson', 'Fort Worth']\n",
    "color_dict = dict({'Houston':'blue',\n",
    "                  'San Antonio':'orange',\n",
    "                  'Austin': 'green',\n",
    "                  'Richardson': 'red',\n",
    "                   'Fort Worth': 'purple'})"
   ]
  },
  {
   "cell_type": "raw",
   "metadata": {},
   "source": [
    "Code below was used for SAT, ACT, AP, and Wealth/ADA. All one needs to do is simply change the column names and labels. Here we see the code for SAT visuals. "
   ]
  },
  {
   "cell_type": "code",
   "execution_count": null,
   "metadata": {},
   "outputs": [],
   "source": [
    "### SAT Regional Breakdown By Year/Region & Histogram 2011 - 2017 ###\n",
    "\n",
    "for region in major_regions:\n",
    "    region_total = total.loc[total['RegnName'] == region]\n",
    "    sat_trend = pd.pivot_table(region_total, index='Year', values='SAT-Total', aggfunc=np.mean)\n",
    "    sat_trend = pd.DataFrame(sat_trend.to_records())\n",
    "    plt.plot(sat_trend['Year'], sat_trend['SAT-Total'], color=color_dict[region], marker='s', label=region)\n",
    "plt.xlabel('Year')\n",
    "plt.ylabel('SAT-Total')\n",
    "plt.title('Regional Average SAT-Total (2011 - 2017)')\n",
    "\n",
    "\n",
    "plt.hist(total['SAT-Total'], color='red', edgecolor='black')\n",
    "plt.title('SAT-Total Distribution (Major Regions: 2011 - 2017)')\n",
    "plt.xlabel('SAT-Total')\n",
    "plt.ylabel('Count')\n"
   ]
  },
  {
   "cell_type": "code",
   "execution_count": null,
   "metadata": {},
   "outputs": [],
   "source": [
    "### SAT/ACT Participation Percentages 2011 - 2017 ###\n",
    "\n",
    "participation = pd.pivot_table(total, columns='Year', values=['SAT-Part_Rate', 'ACT-Part_Rate'], aggfunc=np.mean)\n"
   ]
  },
  {
   "cell_type": "raw",
   "metadata": {},
   "source": [
    "For Participation Effect on College Enrollment Percentage below, all one has to do is change ACT to SAT for the respective figure"
   ]
  },
  {
   "cell_type": "code",
   "execution_count": null,
   "metadata": {},
   "outputs": [],
   "source": [
    "### SAT/ACT Participation Effect on College Enrollment Percentage ###\n",
    "\n",
    "graph = sns.lmplot(x='ACT-Part_Rate', y='Enrolled 4-Year (%)', hue='RegnName', palette=color_dict, data=total, fit_reg=False)\n",
    "sns.regplot(x='ACT-Part_Rate', y='Enrolled 4-Year (%)', data=total, scatter=False, ax=graph.axes[0, 0], line_kws={\"color\":\"black\"})\n",
    "plt.title('Enrolled 4-Year (%) vs. ACT Participation Percentage')\n",
    "plt.xlabel('ACT-Part_Rate (%)')\n",
    "plt.show()\n",
    "corr_ACT_ColEnrol = np.corrcoef(total['ACT-Part_Rate'], total['Enrolled 4-Year (%)']))\n"
   ]
  },
  {
   "cell_type": "code",
   "execution_count": null,
   "metadata": {},
   "outputs": [],
   "source": [
    "### AP Exams Taken Per Student Breakdown By Year/Region ###\n",
    "\n",
    "exam_student = pd.pivot_table(total, columns='Year', index='RegnName', values=['AP-Exams Taken Per Student'], aggfunc=np.mean)\n"
   ]
  },
  {
   "cell_type": "code",
   "execution_count": null,
   "metadata": {},
   "outputs": [],
   "source": [
    "### Wealth/ADA effect on AP Exams Taken Per Student ###\n",
    "\n",
    "graph = sns.lmplot(x='Wealth/ADA', y='AP-Exams Taken Per Student', hue='RegnName', palette=color_dict, data=total, fit_reg=False)\n",
    "sns.regplot(x='Wealth/ADA', y='AP-Exams Taken Per Student', data=total, scatter=False, ax=graph.axes[0, 0], line_kws={\"color\":\"black\"})\n",
    "plt.title('AP Exams Taken Per Student vs. Wealth/ADA')\n",
    "plt.xlabel('Wealth/ADA ($)')\n",
    "corr_AP_Wealth = np.corrcoef(total['AP-Exams Taken Per Student'], total['Wealth/ADA']))\n"
   ]
  },
  {
   "cell_type": "code",
   "execution_count": null,
   "metadata": {},
   "outputs": [],
   "source": [
    "### Wealth/ADA effect on College Enrollment ###\n",
    "\n",
    "graph = sns.lmplot(x='Wealth/ADA', y='Enrolled 4-Year (%)', hue='RegnName', palette=color_dict, data=total, fit_reg=False)\n",
    "sns.regplot(x='Wealth/ADA', y='Enrolled 4-Year (%)', data=total, scatter=False, ax=graph.axes[0, 0], line_kws={\"color\":\"black\"})\n",
    "plt.title('Enrolled 4-Year (%) vs. Wealth/ADA')\n",
    "plt.xlabel('Wealth/ADA ($)')\n",
    "corr_ColEnrol_Wealth = np.corrcoef(total['Wealth/ADA'], total['Enrolled 4-Year (%)'])\n"
   ]
  },
  {
   "cell_type": "code",
   "execution_count": null,
   "metadata": {},
   "outputs": [],
   "source": [
    "### College Graduation By Region for High School Class of 2011 - 2014 ###\n",
    "total = pd.read_csv('Feature_Target_Data.csv')\n",
    "years2 = [2011, 2012, 2013, 2014]\n",
    "total = total.loc[total['Year'].isin(years2)]\n",
    "grad_by_region = pd.pivot_table(total, index='RegnName', values=['Graduated 4-Year (%)'], aggfunc=np.mean)\n",
    "\n",
    "### Wealth/ADA effect on College Graduation ###\n",
    "\n",
    "graph = sns.lmplot(x='Wealth/ADA', y='Graduated 4-Year (%)', hue='RegnName', palette=color_dict, data=total, fit_reg=False)\n",
    "sns.regplot(x='Wealth/ADA', y='Graduated 4-Year (%)', data=total, scatter=False, ax=graph.axes[0, 0], line_kws={\"color\":\"black\"})\n",
    "plt.title('Graduated 4-Year (%) vs. Wealth/ADA (2011 - 2014)')\n",
    "plt.xlabel('Wealth/ADA ($)')\n",
    "corr_Grad_Wealth = np.corrcoef(total['Wealth/ADA'], total['Graduated 4-Year (%)'])\n"
   ]
  }
 ],
 "metadata": {
  "kernelspec": {
   "display_name": "Python 3",
   "language": "python",
   "name": "python3"
  },
  "language_info": {
   "codemirror_mode": {
    "name": "ipython",
    "version": 3
   },
   "file_extension": ".py",
   "mimetype": "text/x-python",
   "name": "python",
   "nbconvert_exporter": "python",
   "pygments_lexer": "ipython3",
   "version": "3.7.4"
  }
 },
 "nbformat": 4,
 "nbformat_minor": 2
}
